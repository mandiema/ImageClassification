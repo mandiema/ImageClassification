{
  "nbformat": 4,
  "nbformat_minor": 0,
  "metadata": {
    "kernelspec": {
      "display_name": "Python 3",
      "language": "python",
      "name": "python3"
    },
    "language_info": {
      "codemirror_mode": {
        "name": "ipython",
        "version": 3
      },
      "file_extension": ".py",
      "mimetype": "text/x-python",
      "name": "python",
      "nbconvert_exporter": "python",
      "pygments_lexer": "ipython3",
      "version": "3.6.1"
    },
    "colab": {
      "name": "GradProject_NB3.ipynb",
      "provenance": [],
      "collapsed_sections": []
    }
  },
  "cells": [
    {
      "cell_type": "markdown",
      "metadata": {
        "id": "ItLdz3c9Bn_x",
        "colab_type": "text"
      },
      "source": [
        "\n",
        "<h1> DS200A Computer Vision Assignment</h1>"
      ]
    },
    {
      "cell_type": "markdown",
      "metadata": {
        "id": "rZ2CEjxDBn_7",
        "colab_type": "text"
      },
      "source": [
        "<h2>  Part Three: Classifier training and performance assessment. </h2>\t"
      ]
    },
    {
      "cell_type": "code",
      "metadata": {
        "id": "lyFX2v1ZEo_n",
        "colab_type": "code",
        "colab": {}
      },
      "source": [
        "import pandas as pd\n",
        "import numpy as np\n",
        "\n",
        "import warnings \n",
        "warnings.filterwarnings('ignore')"
      ],
      "execution_count": 0,
      "outputs": []
    },
    {
      "cell_type": "code",
      "metadata": {
        "id": "PSSsrHmDiRpw",
        "colab_type": "code",
        "colab": {}
      },
      "source": [
        "train = pd.read_pickle('train.pickle')\n",
        "test = pd.read_pickle('test.pickle')"
      ],
      "execution_count": 0,
      "outputs": []
    },
    {
      "cell_type": "code",
      "metadata": {
        "id": "ee449QrUBsMG",
        "colab_type": "code",
        "outputId": "344217b1-3b03-4ab7-bfde-17a88b7014b0",
        "colab": {
          "base_uri": "https://localhost:8080/",
          "height": 238
        }
      },
      "source": [
        "from sklearn.model_selection import GridSearchCV\n",
        "from sklearn.model_selection import cross_val_score\n",
        "\n",
        "from sklearn.preprocessing import StandardScaler\n",
        "design_matrix = train.drop(columns = ['Pictures', 'Encoding'])\n",
        "scaler = StandardScaler()\n",
        "scaler.fit(design_matrix)\n",
        "design_matrix = scaler.transform(design_matrix)\n",
        "design_matrix"
      ],
      "execution_count": 0,
      "outputs": [
        {
          "output_type": "execute_result",
          "data": {
            "text/plain": [
              "array([[-0.30054587, -0.05397191, -0.83780732, ..., -0.4273692 ,\n",
              "         0.3688033 , -0.25769097],\n",
              "       [-0.28351257, -0.01664309, -0.77696392, ..., -0.51213627,\n",
              "         0.3688033 , -0.00889756],\n",
              "       [-0.29585889, -0.03738133, -0.82376653, ..., -0.52628948,\n",
              "        -0.16958782, -0.14822187],\n",
              "       ...,\n",
              "       [ 0.2610962 ,  0.98293987,  0.4679856 , ...,  1.79818506,\n",
              "        -0.16958782,  0.80714485],\n",
              "       [-0.07533975,  0.18659162, -0.01876158, ...,  0.08701629,\n",
              "        -0.16958782,  0.80714485],\n",
              "       [-0.07607899,  0.31931633, -0.12640759, ...,  0.0950821 ,\n",
              "        -0.0619096 ,  0.80714485]])"
            ]
          },
          "metadata": {
            "tags": []
          },
          "execution_count": 23
        }
      ]
    },
    {
      "cell_type": "markdown",
      "metadata": {
        "id": "U6zilsSfBoBp",
        "colab_type": "text"
      },
      "source": [
        "Logistic Regression"
      ]
    },
    {
      "cell_type": "code",
      "metadata": {
        "id": "r-leZO0mBoCY",
        "colab_type": "code",
        "outputId": "1e47bf33-004c-4705-bf73-e6d7aad52ba4",
        "colab": {
          "base_uri": "https://localhost:8080/",
          "height": 51
        }
      },
      "source": [
        "from sklearn.linear_model import LogisticRegression\n",
        "lr = LogisticRegression(random_state=42)\n",
        "parameters = {\n",
        "    'solver' : ['newton-cg','sag', 'saga', 'lbfgs']\n",
        "}\n",
        "lr = GridSearchCV(estimator=lr, param_grid=parameters, cv=5)\n",
        "lr.fit(design_matrix, train['Encoding']);\n",
        "accuracies = cross_val_score(lr, design_matrix, train['Encoding'], cv=5);\n",
        "display(\n",
        "  accuracies, \n",
        "  np.mean(accuracies)\n",
        ")"
      ],
      "execution_count": 0,
      "outputs": [
        {
          "output_type": "display_data",
          "data": {
            "text/plain": [
              "array([0.38834951, 0.37171053, 0.35451505, 0.41891892, 0.39249147])"
            ]
          },
          "metadata": {
            "tags": []
          }
        },
        {
          "output_type": "display_data",
          "data": {
            "text/plain": [
              "0.3851970955083662"
            ]
          },
          "metadata": {
            "tags": []
          }
        }
      ]
    },
    {
      "cell_type": "markdown",
      "metadata": {
        "id": "0QB3CeTyBoCo",
        "colab_type": "text"
      },
      "source": [
        "K-nearest Neighbors"
      ]
    },
    {
      "cell_type": "code",
      "metadata": {
        "id": "u3Kgk2-RBoCv",
        "colab_type": "code",
        "outputId": "3b357768-3f57-49b5-bc3a-c6a4b3f424c1",
        "colab": {
          "base_uri": "https://localhost:8080/",
          "height": 51
        }
      },
      "source": [
        "from sklearn.neighbors import KNeighborsClassifier\n",
        "knn = KNeighborsClassifier()\n",
        "parameters = {\n",
        "    'n_neighbors': np.arange(2, 20), \n",
        "    'algorithm': ('auto', 'ball_tree', 'kd_tree', 'brute'),\n",
        "    'weights': ('uniform', 'distance')\n",
        "}\n",
        "knn = GridSearchCV(estimator=knn, param_grid=parameters, cv=5);\n",
        "knn.fit(design_matrix, train['Encoding']);\n",
        "accuracies = cross_val_score(knn, design_matrix, train['Encoding'], cv=5);\n",
        "display(\n",
        "  accuracies, \n",
        "  np.mean(accuracies)\n",
        ")"
      ],
      "execution_count": 0,
      "outputs": [
        {
          "output_type": "display_data",
          "data": {
            "text/plain": [
              "array([0.30744337, 0.32565789, 0.33444816, 0.33108108, 0.32764505])"
            ]
          },
          "metadata": {
            "tags": []
          }
        },
        {
          "output_type": "display_data",
          "data": {
            "text/plain": [
              "0.32525511064867446"
            ]
          },
          "metadata": {
            "tags": []
          }
        }
      ]
    },
    {
      "cell_type": "markdown",
      "metadata": {
        "id": "PVyE_5crBoDh",
        "colab_type": "text"
      },
      "source": [
        "Classification Tree"
      ]
    },
    {
      "cell_type": "code",
      "metadata": {
        "id": "y_nXoshuBoDl",
        "colab_type": "code",
        "outputId": "3123e1ea-f597-4d77-dcd8-386c59e3e3c5",
        "colab": {
          "base_uri": "https://localhost:8080/",
          "height": 51
        }
      },
      "source": [
        "from sklearn import tree\n",
        "decision_tree_model = tree.DecisionTreeClassifier(random_state=42)\n",
        "parameters = {\n",
        "    'criterion': ('gini', 'entropy'), \n",
        "    'splitter': ('best', 'random')\n",
        "}\n",
        "decision_tree_model = GridSearchCV(estimator = decision_tree_model, param_grid = parameters, cv=5)\n",
        "decision_tree_model.fit(design_matrix, train['Encoding'])\n",
        "accuracies = cross_val_score(decision_tree_model, design_matrix, train['Encoding'], cv=5)\n",
        "display(\n",
        "  accuracies, \n",
        "  np.mean(accuracies)\n",
        ")"
      ],
      "execution_count": 0,
      "outputs": [
        {
          "output_type": "display_data",
          "data": {
            "text/plain": [
              "array([0.27184466, 0.29605263, 0.3277592 , 0.30067568, 0.32764505])"
            ]
          },
          "metadata": {
            "tags": []
          }
        },
        {
          "output_type": "display_data",
          "data": {
            "text/plain": [
              "0.30479544319355034"
            ]
          },
          "metadata": {
            "tags": []
          }
        }
      ]
    },
    {
      "cell_type": "markdown",
      "metadata": {
        "id": "6UlY6wN-BoD0",
        "colab_type": "text"
      },
      "source": [
        "Random Forest"
      ]
    },
    {
      "cell_type": "code",
      "metadata": {
        "id": "8GUYDFVeBoEB",
        "colab_type": "code",
        "outputId": "ce0f14bd-c7e9-4e5f-cd3d-0adaa8f795e7",
        "colab": {
          "base_uri": "https://localhost:8080/",
          "height": 51
        }
      },
      "source": [
        "from sklearn.ensemble import RandomForestClassifier\n",
        "random_forest_model = RandomForestClassifier()\n",
        "parameters = {\n",
        "    'n_estimators' : (100, 200, 300), \n",
        "    'criterion': ('gini', 'entropy')\n",
        "}\n",
        "random_forest_model = GridSearchCV(estimator = random_forest_model, param_grid = parameters, cv=5)\n",
        "random_forest_model.fit(design_matrix, train['Encoding'])\n",
        "accuracies = cross_val_score(random_forest_model, design_matrix, train['Encoding'], cv=5)\n",
        "display(\n",
        "    accuracies,\n",
        "    np.mean(accuracies) \n",
        ")"
      ],
      "execution_count": 0,
      "outputs": [
        {
          "output_type": "display_data",
          "data": {
            "text/plain": [
              "array([0.39482201, 0.38157895, 0.38795987, 0.38175676, 0.40273038])"
            ]
          },
          "metadata": {
            "tags": []
          }
        },
        {
          "output_type": "display_data",
          "data": {
            "text/plain": [
              "0.38976959044900533"
            ]
          },
          "metadata": {
            "tags": []
          }
        }
      ]
    },
    {
      "cell_type": "markdown",
      "metadata": {
        "id": "J88jwFn1BoES",
        "colab_type": "text"
      },
      "source": [
        "Support Vector Machine"
      ]
    },
    {
      "cell_type": "code",
      "metadata": {
        "id": "CMAuyIWVBoEb",
        "colab_type": "code",
        "outputId": "d1ed8ba6-8aaa-438f-a225-b11adf0bbb0b",
        "colab": {
          "base_uri": "https://localhost:8080/",
          "height": 51
        }
      },
      "source": [
        "from sklearn.svm import SVC\n",
        "svc = SVC()\n",
        "parameters = {\n",
        "    'kernel': ('linear', 'poly', 'rbf', 'sigmoid'),\n",
        "    'degree': np.arange(2, 11), \n",
        "    'C': np.arange(1, 5)\n",
        "}\n",
        "svc = GridSearchCV(estimator = svc, param_grid = parameters, cv=5)\n",
        "svc.fit(design_matrix, train['Encoding'])\n",
        "accuracies = cross_val_score(svc, design_matrix, train['Encoding'], cv=5);\n",
        "display(\n",
        "  accuracies, \n",
        "  np.mean(accuracies)\n",
        ")"
      ],
      "execution_count": 0,
      "outputs": [
        {
          "output_type": "display_data",
          "data": {
            "text/plain": [
              "array([0.35598706, 0.36513158, 0.37458194, 0.40540541, 0.40955631])"
            ]
          },
          "metadata": {
            "tags": []
          }
        },
        {
          "output_type": "display_data",
          "data": {
            "text/plain": [
              "0.38213245863229206"
            ]
          },
          "metadata": {
            "tags": []
          }
        }
      ]
    },
    {
      "cell_type": "markdown",
      "metadata": {
        "id": "EJByOXHRkRay",
        "colab_type": "text"
      },
      "source": [
        "Final Classifier"
      ]
    },
    {
      "cell_type": "code",
      "metadata": {
        "id": "gAt0pMJuDfPL",
        "colab_type": "code",
        "colab": {}
      },
      "source": [
        "final_classifier = random_forest_model\n",
        "final_classifier = final_classifier.fit(design_matrix, train['Encoding'])"
      ],
      "execution_count": 0,
      "outputs": []
    },
    {
      "cell_type": "code",
      "metadata": {
        "id": "9Xx0mkDzkWgb",
        "colab_type": "code",
        "outputId": "53acf3e1-fb37-416e-b52c-8d88826d1dbe",
        "colab": {
          "base_uri": "https://localhost:8080/",
          "height": 238
        }
      },
      "source": [
        "test_design_matrix = test.drop(columns = ['Pictures'])\n",
        "scaler = StandardScaler()\n",
        "scaler.fit(test_design_matrix)\n",
        "test_design_matrix = scaler.transform(test_design_matrix)\n",
        "test_design_matrix"
      ],
      "execution_count": 0,
      "outputs": [
        {
          "output_type": "execute_result",
          "data": {
            "text/plain": [
              "array([[-0.46682569, -0.8560535 , -0.98421682, ..., -0.48686798,\n",
              "        -0.12100967, -1.09203153],\n",
              "       [-0.32338977, -0.32295984, -0.57921406, ..., -0.6017113 ,\n",
              "        -0.18566857, -2.31983209],\n",
              "       [-0.22702704, -0.32295984, -0.13537543, ...,  0.12573819,\n",
              "        -0.18566857,  0.59375812],\n",
              "       ...,\n",
              "       [-0.39787013, -0.97945481, -0.3073629 , ..., -0.32631506,\n",
              "        -0.18566857, -0.18579779],\n",
              "       [-0.32035434, -0.75733245, -0.09653955, ..., -0.16641281,\n",
              "        -0.12100967,  0.37938025],\n",
              "       [-0.40489658, -0.81656508, -0.58476205, ..., -0.3673073 ,\n",
              "        -0.18566857, -0.14681999]])"
            ]
          },
          "metadata": {
            "tags": []
          },
          "execution_count": 30
        }
      ]
    },
    {
      "cell_type": "code",
      "metadata": {
        "id": "blgNMwiXkZUX",
        "colab_type": "code",
        "colab": {}
      },
      "source": [
        "test_predictions = final_classifier.predict(test_design_matrix)\n",
        "\n",
        "classes = ['airplanes', 'bear', 'blimp', 'comet', 'crab', 'dog',\n",
        "           'dolphin', 'giraffe', 'goat', 'gorilla', 'kangaroo', \n",
        "           'killer-whale', 'leopards', 'llama', 'penguin', 'porcupine',\n",
        "           'teddy-bear', 'triceratops', 'unicorn', 'zebra']\n",
        "\n",
        "test_predictions = [classes[i] for i in test_predictions]\n",
        "\n",
        "predictions = pd.DataFrame()\n",
        "predictions['Predictions'] = test_predictions\n",
        "predictions.to_csv('predictions.csv')"
      ],
      "execution_count": 0,
      "outputs": []
    }
  ]
}