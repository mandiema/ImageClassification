{
  "nbformat": 4,
  "nbformat_minor": 0,
  "metadata": {
    "kernelspec": {
      "display_name": "Python 3",
      "language": "python",
      "name": "python3"
    },
    "language_info": {
      "codemirror_mode": {
        "name": "ipython",
        "version": 3
      },
      "file_extension": ".py",
      "mimetype": "text/x-python",
      "name": "python",
      "nbconvert_exporter": "python",
      "pygments_lexer": "ipython3",
      "version": "3.6.1"
    },
    "colab": {
      "name": "GradProject_NB1.ipynb",
      "provenance": [],
      "collapsed_sections": []
    }
  },
  "cells": [
    {
      "cell_type": "markdown",
      "metadata": {
        "id": "0Oy7tsj8hUof",
        "colab_type": "text"
      },
      "source": [
        "<h1> DS200A Computer Vision Assignment</h1>"
      ]
    },
    {
      "cell_type": "markdown",
      "metadata": {
        "id": "V5k5PSQOhUoh",
        "colab_type": "text"
      },
      "source": [
        "<h2>  Part One: Data Input </h2>\t\n"
      ]
    },
    {
      "cell_type": "code",
      "metadata": {
        "id": "RPjbEIq3hbDX",
        "colab_type": "code",
        "colab": {}
      },
      "source": [
        "!pip install --upgrade pip\n",
        "!pip install -U scikit-image"
      ],
      "execution_count": 0,
      "outputs": []
    },
    {
      "cell_type": "code",
      "metadata": {
        "id": "h9O2ytYbhUoj",
        "colab_type": "code",
        "colab": {}
      },
      "source": [
        "# Dependencies\n",
        "import pickle\n",
        "import cv2 as cv\n",
        "import pandas as pd\n",
        "from glob import glob\n",
        "from skimage import io\n",
        "\n",
        "import warnings \n",
        "warnings.filterwarnings('ignore')"
      ],
      "execution_count": 0,
      "outputs": []
    },
    {
      "cell_type": "code",
      "metadata": {
        "colab_type": "code",
        "id": "XAUCjnYTtFA5",
        "colab": {}
      },
      "source": [
        "!unzip 20_Validation.zip\n",
        "!unzip 20_categories_training.zip"
      ],
      "execution_count": 0,
      "outputs": []
    },
    {
      "cell_type": "code",
      "metadata": {
        "id": "uxJPiNC9JXGU",
        "colab_type": "code",
        "colab": {}
      },
      "source": [
        "# Obtain filepaths for training and test sets\n",
        "\n",
        "classes = ['airplanes', 'bear', 'blimp', 'comet', 'crab', 'dog',\n",
        "           'dolphin', 'giraffe', 'goat', 'gorilla', 'kangaroo', \n",
        "           'killer-whale', 'leopards', 'llama', 'penguin', 'porcupine',\n",
        "           'teddy-bear', 'triceratops', 'unicorn', 'zebra']\n",
        "           \n",
        "train_dir = './20_categories_training/20_categories_training/'\n",
        "test_dir = '/content/20_Validation/'\n",
        "\n",
        "def get_filenames(folder): \n",
        "  return [file for file in glob(train_dir + folder + '/*.jpg')]\n",
        "\n",
        "train_filenames_categorized = [get_filenames(name) for name in classes]\n",
        "\n",
        "# Obtain encodings \n",
        "train_encodings = []\n",
        "for idx in range(len(classes)):\n",
        "  train_encodings += [idx] * len(train_filenames_categorized[idx])\n",
        "\n",
        "# Flatten train_filenames_categorized --> train_filenames\n",
        "train_filenames = []\n",
        "for names in train_filenames_categorized:\n",
        "  train_filenames.extend(names) \n",
        "\n",
        "test_filenames = [file for file in glob(test_dir + '*.jpg')]"
      ],
      "execution_count": 0,
      "outputs": []
    },
    {
      "cell_type": "code",
      "metadata": {
        "id": "fZ3zGJnChUoq",
        "colab_type": "code",
        "colab": {}
      },
      "source": [
        "def to_rgb(img): \n",
        "  '''\n",
        "  convert to rgb\n",
        "  '''\n",
        "  return cv.cvtColor(img, cv.COLOR_GRAY2RGB)\n",
        "\n",
        "def read_pic(image_filepath): \n",
        "  '''\n",
        "  returns array representation of image from the image's filepath\n",
        "  '''\n",
        "  img = io.imread(image_filepath)\n",
        "  if len(img.shape) == 2: \n",
        "    img = to_rgb(img)\n",
        "  return img\n",
        "\n",
        "def read_organize_data(file_names, encod = ''):\n",
        "  '''\n",
        "  returns dataframe of array representation of images \n",
        "  (and encodings if specified) \n",
        "  '''\n",
        "  data = pd.DataFrame()\n",
        "  data['Pictures'] = list(map(read_pic, file_names))\n",
        "  if encod: \n",
        "    data['Encoding'] = encod\n",
        "  return data"
      ],
      "execution_count": 0,
      "outputs": []
    },
    {
      "cell_type": "code",
      "metadata": {
        "colab_type": "code",
        "id": "CkT52evzhyxj",
        "outputId": "f3fa6293-779b-4168-ee67-191f4b0cc4e2",
        "colab": {
          "base_uri": "https://localhost:8080/",
          "height": 204
        }
      },
      "source": [
        "train_nofeats = read_organize_data(train_filenames, train_encodings)\n",
        "train_nofeats.head()"
      ],
      "execution_count": 0,
      "outputs": [
        {
          "output_type": "execute_result",
          "data": {
            "text/html": [
              "<div>\n",
              "<style scoped>\n",
              "    .dataframe tbody tr th:only-of-type {\n",
              "        vertical-align: middle;\n",
              "    }\n",
              "\n",
              "    .dataframe tbody tr th {\n",
              "        vertical-align: top;\n",
              "    }\n",
              "\n",
              "    .dataframe thead th {\n",
              "        text-align: right;\n",
              "    }\n",
              "</style>\n",
              "<table border=\"1\" class=\"dataframe\">\n",
              "  <thead>\n",
              "    <tr style=\"text-align: right;\">\n",
              "      <th></th>\n",
              "      <th>Pictures</th>\n",
              "      <th>Encoding</th>\n",
              "    </tr>\n",
              "  </thead>\n",
              "  <tbody>\n",
              "    <tr>\n",
              "      <th>0</th>\n",
              "      <td>[[[255, 255, 255], [255, 255, 255], [255, 255,...</td>\n",
              "      <td>0</td>\n",
              "    </tr>\n",
              "    <tr>\n",
              "      <th>1</th>\n",
              "      <td>[[[255, 255, 255], [255, 255, 255], [255, 255,...</td>\n",
              "      <td>0</td>\n",
              "    </tr>\n",
              "    <tr>\n",
              "      <th>2</th>\n",
              "      <td>[[[255, 255, 255], [253, 254, 255], [248, 255,...</td>\n",
              "      <td>0</td>\n",
              "    </tr>\n",
              "    <tr>\n",
              "      <th>3</th>\n",
              "      <td>[[[61, 78, 60], [58, 75, 57], [43, 60, 42], [5...</td>\n",
              "      <td>0</td>\n",
              "    </tr>\n",
              "    <tr>\n",
              "      <th>4</th>\n",
              "      <td>[[[255, 255, 255], [255, 255, 255], [255, 255,...</td>\n",
              "      <td>0</td>\n",
              "    </tr>\n",
              "  </tbody>\n",
              "</table>\n",
              "</div>"
            ],
            "text/plain": [
              "                                            Pictures  Encoding\n",
              "0  [[[255, 255, 255], [255, 255, 255], [255, 255,...         0\n",
              "1  [[[255, 255, 255], [255, 255, 255], [255, 255,...         0\n",
              "2  [[[255, 255, 255], [253, 254, 255], [248, 255,...         0\n",
              "3  [[[61, 78, 60], [58, 75, 57], [43, 60, 42], [5...         0\n",
              "4  [[[255, 255, 255], [255, 255, 255], [255, 255,...         0"
            ]
          },
          "metadata": {
            "tags": []
          },
          "execution_count": 33
        }
      ]
    },
    {
      "cell_type": "code",
      "metadata": {
        "id": "aV-34fSOJduH",
        "colab_type": "code",
        "outputId": "178f7810-40b8-4f51-d068-3490d764a15a",
        "colab": {
          "base_uri": "https://localhost:8080/",
          "height": 204
        }
      },
      "source": [
        "test_nofeats = read_organize_data(test_filenames)\n",
        "test_nofeats.head()"
      ],
      "execution_count": 0,
      "outputs": [
        {
          "output_type": "execute_result",
          "data": {
            "text/html": [
              "<div>\n",
              "<style scoped>\n",
              "    .dataframe tbody tr th:only-of-type {\n",
              "        vertical-align: middle;\n",
              "    }\n",
              "\n",
              "    .dataframe tbody tr th {\n",
              "        vertical-align: top;\n",
              "    }\n",
              "\n",
              "    .dataframe thead th {\n",
              "        text-align: right;\n",
              "    }\n",
              "</style>\n",
              "<table border=\"1\" class=\"dataframe\">\n",
              "  <thead>\n",
              "    <tr style=\"text-align: right;\">\n",
              "      <th></th>\n",
              "      <th>Pictures</th>\n",
              "    </tr>\n",
              "  </thead>\n",
              "  <tbody>\n",
              "    <tr>\n",
              "      <th>0</th>\n",
              "      <td>[[[235, 255, 255], [230, 255, 255], [229, 255,...</td>\n",
              "    </tr>\n",
              "    <tr>\n",
              "      <th>1</th>\n",
              "      <td>[[[119, 148, 128], [96, 125, 105], [100, 127, ...</td>\n",
              "    </tr>\n",
              "    <tr>\n",
              "      <th>2</th>\n",
              "      <td>[[[91, 69, 72], [81, 59, 62], [101, 78, 84], [...</td>\n",
              "    </tr>\n",
              "    <tr>\n",
              "      <th>3</th>\n",
              "      <td>[[[247, 246, 251], [246, 245, 250], [253, 252,...</td>\n",
              "    </tr>\n",
              "    <tr>\n",
              "      <th>4</th>\n",
              "      <td>[[[9, 20, 16], [9, 20, 16], [10, 19, 16], [10,...</td>\n",
              "    </tr>\n",
              "  </tbody>\n",
              "</table>\n",
              "</div>"
            ],
            "text/plain": [
              "                                            Pictures\n",
              "0  [[[235, 255, 255], [230, 255, 255], [229, 255,...\n",
              "1  [[[119, 148, 128], [96, 125, 105], [100, 127, ...\n",
              "2  [[[91, 69, 72], [81, 59, 62], [101, 78, 84], [...\n",
              "3  [[[247, 246, 251], [246, 245, 250], [253, 252,...\n",
              "4  [[[9, 20, 16], [9, 20, 16], [10, 19, 16], [10,..."
            ]
          },
          "metadata": {
            "tags": []
          },
          "execution_count": 34
        }
      ]
    },
    {
      "cell_type": "code",
      "metadata": {
        "id": "dNZ8LeKLEogN",
        "colab_type": "code",
        "colab": {}
      },
      "source": [
        "#Save Data --> pickle file\n",
        "train_nofeats.to_pickle(path = 'train_nofeats.pickle')\n",
        "test_nofeats.to_pickle(path = 'test_nofeats.pickle')\n",
        "\n",
        "with open('train_filenames.pickle', 'wb') as f: \n",
        "  pickle.dump(train_filenames, f)\n",
        "\n",
        "with open('test_filenames.pickle', 'wb') as f: \n",
        "  pickle.dump(test_filenames, f)"
      ],
      "execution_count": 0,
      "outputs": []
    }
  ]
}